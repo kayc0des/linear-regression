{
 "cells": [
  {
   "cell_type": "markdown",
   "metadata": {},
   "source": [
    "## Linear Regression\n",
    "\n",
    "There are several factors that can influence a student's performance on a test, but for the sake of this analogy, let's consider the number of hours spent studying as a key determinant. In this scenario, the student's performance on the test is the 'dependent' variable, which is influenced by the 'independent' variable of hours studied.\n",
    "\n",
    "For instance, if student one achieved a perfect score of 100% after dedicating 10 hours to studying, and student two attained a score of 50% after studying for 5 hours, what might student three score after studying for 7 hours? If you guessed 70%, you're correct.\n",
    "\n",
    "In the language of data analysis, predicting the outcome of one variable based on another is termed linear regression analysis.\n",
    "\n",
    "The linear regression formula is represented as:\n",
    "\n",
    "## \\[ y = mx + b \\]\n",
    "\n",
    "Where:\n",
    "- \\( y \\) is the dependent variable,\n",
    "- \\( x \\) is the independent variable,\n",
    "- \\( m \\) is the slope of the regression line, and\n",
    "- \\( b \\) is the y-intercept.\n",
    "\n",
    "In the formula described above, we introduce two new constants: m and b. Let's begin with m, it represents the slope of the regression line, indicating the rate at which the student's score changes with respect to the nuber of hours studied (dy/dx).\n",
    "\n",
    "Now, Imagine a situation where class attendance contributes to 10% of the overall score. In this context, even if a student dedicates no time to studying, they would still achieve a score of 10% provided they attended all classes. This 10% value serves as the y-intercept(b)."
   ]
  },
  {
   "cell_type": "code",
   "execution_count": null,
   "metadata": {},
   "outputs": [],
   "source": []
  }
 ],
 "metadata": {
  "language_info": {
   "name": "python"
  }
 },
 "nbformat": 4,
 "nbformat_minor": 2
}
