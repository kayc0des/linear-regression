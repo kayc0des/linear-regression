{
 "cells": [
  {
   "cell_type": "markdown",
   "metadata": {},
   "source": [
    "# Linear Regression\n",
    "\n",
    "There are several factors that can influence a student's performance on a test, but for the sake of this analogy, let's consider the number of hours spent studying as a key determinant. In this scenario, the student's performance on the test is the 'dependent' variable, which is influenced by the 'independent' variable of hours studied.\n",
    "\n",
    "For instance, if student one achieved a perfect score of 100% after dedicating 10 hours to studying, and student two attained a score of 50% after studying for 5 hours, what might student three score after studying for 7 hours? If you guessed 70%, you're correct.\n",
    "\n",
    "In the language of data analysis, predicting the outcome of one variable based on another is termed linear regression analysis.\n",
    "\n",
    "The linear regression formula is represented as:\n",
    "\n",
    "## \\[ y = mx + b \\]\n",
    "\n",
    "Where:\n",
    "- \\( y \\) is the dependent variable,\n",
    "- \\( x \\) is the independent variable,\n",
    "- \\( m \\) is the slope of the regression line, and\n",
    "- \\( b \\) is the y-intercept.\n",
    "\n",
    "In the formula described above, we introduce two new constants: m and b. Let's begin with m, it represents the slope of the regression line, indicating the rate at which the student's score changes with respect to the number of hours studied (dy/dx).\n",
    "\n",
    "Now, imagine a situation where class attendance contributes to 10% of the overall score. In this context, even if a student dedicates no time to studying, they would still achieve a score of 10% provided they attended all classes. This 10% value serves as the y-intercept(b)."
   ]
  },
  {
   "cell_type": "markdown",
   "metadata": {},
   "source": [
    "\n",
    "## Question\n",
    "\n",
    "Let's revisit the initial scenario with the student data and discuss how we can mathematically determine the values of m, b, and y using a set of data points.\n",
    "\n",
    "| Student | Study Hour | Score |\n",
    "| ------- | ---------- | ----- |\n",
    "| S1      | 10         | 100   |\n",
    "| S2      | 5          | 50    |\n",
    "| S3      | 7          | y     |\n",
    "\n",
    "Find the values of m, b and y.\n",
    "\n",
    "## Solution\n",
    "\n",
    "Prerequisite\n",
    "- Linear Algebra: Systems of Linear Equations\n",
    "\n",
    "### Formula\n",
    "y = mx + b\n",
    "\n",
    "### Step 1\n",
    "Substitute values of y and x for s1 and s2 in the formula above to have a system of linear equations\n",
    "\n",
    "100 = 10m + b ........... eq. 1\n",
    "\n",
    "50 = 5m + b ............. eq. 2\n",
    "\n",
    "### Step 3\n",
    "Substract eq.2 from eq.1\n",
    "\n",
    "50 = 5m\n",
    "\n",
    "### Step 4\n",
    "Divide both sides by 5\n",
    "\n",
    "m = 10\n",
    "\n",
    "### Step 5\n",
    "b = 0 or more conveniently substitute the value of m in either eq.1 or eq.2\n",
    "\n",
    "eq.1 : 100 - 10(10) = b\n",
    "\n",
    "b = 0\n",
    "\n",
    "### Step 6\n",
    "solve for y for student 3\n",
    "\n",
    "y = 10(7) + 0\n",
    "\n",
    "y = 70"
   ]
  },
  {
   "cell_type": "markdown",
   "metadata": {},
   "source": [
    "## Handling Larger Datasets\n",
    "\n",
    "The previous example provided a straightforward illustration. However, as datasets grow in size, such as with 10,000 rows of data, simple calculations of m and b using just two values of x and y may not yield accurate results. In such cases, we need more sophisticated techniques like regression lines, cost or error functions, and perhaps even gradient descent optimization.\n",
    "\n",
    "Let's consider a new dataset to delve deeper into this complexity."
   ]
  },
  {
   "cell_type": "code",
   "execution_count": 8,
   "metadata": {},
   "outputs": [
    {
     "data": {
      "image/png": "[encoded data removed]",
      "text/plain": [
       "<Figure size 640x480 with 1 Axes>"
      ]
     },
     "metadata": {},
     "output_type": "display_data"
    }
   ],
   "source": [
    "# import necessary modules\n",
    "\n",
    "import numpy as np \n",
    "import pandas as pd \n",
    "import matplotlib.pyplot as plt\n",
    "\n",
    "# read the new dataset using pd.read_csv(path_to_csv)\n",
    "df = pd.read_csv('data/test_score.csv')\n",
    "\n",
    "# assign columns in data to variables x and y\n",
    "x = df['Study Hours']\n",
    "y = df['Score']\n",
    "\n",
    "# plot x and y for better visualization\n",
    "plt.scatter(x, y)\n",
    "plt.xlabel('Study  Hours')\n",
    "plt.ylabel('Score')\n",
    "plt.show()"
   ]
  },
  {
   "cell_type": "markdown",
   "metadata": {},
   "source": [
    "The plot above illustrates the correlation between study hours and scores, demonstrating a clear positive relationship where an increase in study hours corresponds to higher scores. This positive correlation is evident in the positive gradient of the trend line.\n",
    "\n",
    "However, it's essential to notice three data points that significantly deviate from the majority of the data. These outliers are observations that lie far from the main cluster of points. Outliers can occur due to various reasons such as measurement errors, data entry mistakes, or genuinely exceptional cases within the dataset.\n",
    "\n",
    "## Regression Line"
   ]
  },
  {
   "cell_type": "code",
   "execution_count": null,
   "metadata": {},
   "outputs": [],
   "source": []
  }
 ],
 "metadata": {
  "kernelspec": {
   "display_name": "Python 3",
   "language": "python",
   "name": "python3"
  },
  "language_info": {
   "codemirror_mode": {
    "name": "ipython",
    "version": 3
   },
   "file_extension": ".py",
   "mimetype": "text/x-python",
   "name": "python",
   "nbconvert_exporter": "python",
   "pygments_lexer": "ipython3",
   "version": "3.11.3"
  }
 },
 "nbformat": 4,
 "nbformat_minor": 2
}
